{
 "cells": [
  {
   "cell_type": "code",
   "execution_count": null,
   "id": "47495fee",
   "metadata": {},
   "outputs": [],
   "source": [
    "from openai import AzureOpenAI\n",
    "\n",
    "# Configura tus datos reales aquí\n",
    "endpoint = \"https://aiservicesllmglobalai850783443917.openai.azure.com/\"\n",
    "api_key = \"gbDTUcmAPkA95tfJYoKpspzqnGUHhxVOZiS4lnSCyFV7lwBu9Ze9JQQJ99BEACYeBjFXJ3w3AAAAACOGhlPC\"\n",
    "deployment = \"gpt-4o\"  # Asegúrate de que coincida con el nombre de despliegue en Azure\n",
    "api_version = \"2024-12-01-preview\"\n",
    "\n",
    "# Crear cliente\n",
    "client = AzureOpenAI(\n",
    "    api_version=api_version,\n",
    "    azure_endpoint=endpoint,\n",
    "    api_key=api_key,\n",
    ")\n",
    "\n",
    "# Ejecutar el prompt\n",
    "response = client.chat.completions.create(\n",
    "    messages=[\n",
    "        {\n",
    "            \"role\": \"user\",\n",
    "            \"content\": \"¿cuáles son los contactos a quienes puedo llamar?\",\n",
    "        }\n",
    "    ],\n",
    "    max_tokens=1024,\n",
    "    temperature=0.7,\n",
    "    top_p=1.0,\n",
    "    model=deployment\n",
    ")\n",
    "\n",
    "# Mostrar la respuesta\n",
    "print(response.choices[0].message.content)\n"
   ]
  },
  {
   "cell_type": "code",
   "execution_count": 1,
   "id": "b38551da",
   "metadata": {},
   "outputs": [
    {
     "name": "stdout",
     "output_type": "stream",
     "text": [
      "{'type': 'text', 'text': {'value': 'Los contactos disponibles para asistencia son:\\n\\n1. **Transporte**: Luis Fernando Delgado, Coordinador de Logística. Teléfono: 55 1010 2020, Correo: luis.delgado@empresa.com.\\n2. **Seguridad**: Cynthia Morales Rivas, Jefa de Seguridad Operativa. Teléfono: 55 3030 4040, Correo: cynthia.morales@empresa.com.\\n3. **CDR** (Centro de Distribución y Recepción): Eduardo Ramírez Ochoa, Encargado de Operaciones. Teléfono: 55 5050 6060, Correo: eduardo.ramirez@empresa.com【4:0†source】.\\n\\nSeguridad está disponible 24/7, mientras que Transporte y CDR atienden de 06:00 a 22:00【4:0†source】.', 'annotations': [{'type': 'file_citation', 'text': '【4:0†source】', 'start_index': 462, 'end_index': 474, 'file_citation': {'file_id': 'assistant-7zjSVj89MMm7mK7PsMxvAu'}}, {'type': 'file_citation', 'text': '【4:0†source】', 'start_index': 564, 'end_index': 576, 'file_citation': {'file_id': 'assistant-7zjSVj89MMm7mK7PsMxvAu'}}]}}\n",
      "{'type': 'text', 'text': {'value': '¿cuáles son los contactos a quienes puedo llamar?', 'annotations': []}}\n",
      "{'type': 'text', 'text': {'value': 'Los contactos autorizados para escalar situaciones son:\\n\\n1. **Transporte**: Luis Fernando Delgado, Coordinador de Logística. Teléfono: 55 1010 2020, Correo: luis.delgado@empresa.com.\\n2. **Seguridad**: Cynthia Morales Rivas, Jefa de Seguridad Operativa. Teléfono: 55 3030 4040, Correo: cynthia.morales@empresa.com.\\n3. **CDR** (Centro de Distribución y Recepción): Eduardo Ramírez Ochoa, Encargado de Operaciones. Teléfono: 55 5050 6060, Correo: eduardo.ramirez@empresa.com【4:0†source】.\\n\\nRecuerda que Seguridad está disponible 24/7, mientras que Transporte y CDR tienen horario de atención de 06:00 a 22:00【4:0†source】.', 'annotations': [{'type': 'file_citation', 'text': '【4:0†source】', 'start_index': 471, 'end_index': 483, 'file_citation': {'file_id': 'assistant-7zjSVj89MMm7mK7PsMxvAu'}}, {'type': 'file_citation', 'text': '【4:0†source】', 'start_index': 604, 'end_index': 616, 'file_citation': {'file_id': 'assistant-7zjSVj89MMm7mK7PsMxvAu'}}]}}\n",
      "{'type': 'text', 'text': {'value': '¿cuáles son los contactos a quienes puedo llamar?', 'annotations': []}}\n",
      "{'type': 'text', 'text': {'value': 'Los contactos autorizados para escalar situaciones son los siguientes:\\n\\n1. **Transporte**: Luis Fernando Delgado, Coordinador de Logística. Teléfono: 55 1010 2020, Correo: luis.delgado@empresa.com.\\n2. **Seguridad**: Cynthia Morales Rivas, Jefa de Seguridad Operativa. Teléfono: 55 3030 4040, Correo: cynthia.morales@empresa.com.\\n3. **CDR** (Centro de Distribución y Recepción): Eduardo Ramírez Ochoa, Encargado de Operaciones. Teléfono: 55 5050 6060, Correo: eduardo.ramirez@empresa.com【4:0†source】.\\n\\nRecuerda que el horario de atención es 24/7 para Seguridad, mientras que Transporte y CDR operan de 06:00 a 22:00. Usa preferentemente el teléfono y sigue los pasos indicados para escalar un incidente【4:0†source】.', 'annotations': [{'type': 'file_citation', 'text': '【4:0†source】', 'start_index': 486, 'end_index': 498, 'file_citation': {'file_id': 'assistant-7zjSVj89MMm7mK7PsMxvAu'}}, {'type': 'file_citation', 'text': '【4:0†source】', 'start_index': 701, 'end_index': 713, 'file_citation': {'file_id': 'assistant-7zjSVj89MMm7mK7PsMxvAu'}}]}}\n",
      "{'type': 'text', 'text': {'value': '¿cuáles son los contactos a quienes puedo llamar?', 'annotations': []}}\n"
     ]
    }
   ],
   "source": [
    "# pip install azure-ai-projects==1.0.0b10 azure-identity\n",
    "\n",
    "from azure.ai.projects import AIProjectClient\n",
    "from azure.identity import DefaultAzureCredential\n",
    "\n",
    "project_client = AIProjectClient.from_connection_string(\n",
    "    credential=DefaultAzureCredential(),\n",
    "    conn_str=\"eastus.api.azureml.ms;93a66245-c573-449e-b083-fbfb9ef37832;rg-llm-globalai;test\"\n",
    ")\n",
    "\n",
    "agent = project_client.agents.get_agent(\"asst_oP5IQTwqI727uXgP67e27W9u\")\n",
    "thread = project_client.agents.get_thread(\"thread_hf2MnmTZe9S76JmFA912VZKO\")\n",
    "\n",
    "project_client.agents.create_message(\n",
    "    thread_id=thread.id,\n",
    "    role=\"user\",\n",
    "    content=\"¿cuáles son los contactos a quienes puedo llamar?\"\n",
    ")\n",
    "\n",
    "project_client.agents.create_and_process_run(\n",
    "    thread_id=thread.id,\n",
    "    agent_id=agent.id\n",
    ")\n",
    "\n",
    "messages = project_client.agents.list_messages(thread_id=thread.id)\n",
    "\n",
    "for text_message in messages.text_messages:\n",
    "    print(text_message.as_dict())"
   ]
  },
  {
   "cell_type": "code",
   "execution_count": 26,
   "id": "62f74be9",
   "metadata": {},
   "outputs": [
    {
     "name": "stdout",
     "output_type": "stream",
     "text": [
      "\n",
      "CONVERSACIÓN ACTUAL (MÁS RECIENTE PRIMERO)\n",
      "==================================================\n",
      "\n",
      "MENSAJE 1:\n",
      "--------------------------------------------------\n",
      "{'type': 'text', 'text': {'value': '¿cuáles son los contactos a quienes puedo llamar?', 'annotations': []}}\n",
      "--------------------------------------------------\n",
      "\n",
      "MENSAJE 2:\n",
      "--------------------------------------------------\n",
      "{'type': 'text', 'text': {'value': 'Los contactos autorizados para escalar situaciones son los siguientes:\\n\\n1. **Transporte**: Luis Fernando Delgado, Coordinador de Logística. Teléfono: 55 1010 2020, Correo: luis.delgado@empresa.com.\\n2. **Seguridad**: Cynthia Morales Rivas, Jefa de Seguridad Operativa. Teléfono: 55 3030 4040, Correo: cynthia.morales@empresa.com.\\n3. **CDR** (Centro de Distribución y Recepción): Eduardo Ramírez Ochoa, Encargado de Operaciones. Teléfono: 55 5050 6060, Correo: eduardo.ramirez@empresa.com【4:0†source】.\\n\\nRecuerda que el horario de atención es 24/7 para Seguridad, mientras que Transporte y CDR operan de 06:00 a 22:00. Usa preferentemente el teléfono y sigue los pasos indicados para escalar un incidente【4:0†source】.', 'annotations': [{'type': 'file_citation', 'text': '【4:0†source】', 'start_index': 486, 'end_index': 498, 'file_citation': {'file_id': 'assistant-7zjSVj89MMm7mK7PsMxvAu'}}, {'type': 'file_citation', 'text': '【4:0†source】', 'start_index': 701, 'end_index': 713, 'file_citation': {'file_id': 'assistant-7zjSVj89MMm7mK7PsMxvAu'}}]}}\n",
      "--------------------------------------------------\n",
      "\n",
      "MENSAJE 3:\n",
      "--------------------------------------------------\n",
      "{'type': 'text', 'text': {'value': '¿cuáles son los contactos a quienes puedo llamar?', 'annotations': []}}\n",
      "--------------------------------------------------\n",
      "\n",
      "MENSAJE 4:\n",
      "--------------------------------------------------\n",
      "{'type': 'text', 'text': {'value': 'Los contactos autorizados para escalar situaciones son:\\n\\n1. **Transporte**: Luis Fernando Delgado, Coordinador de Logística. Teléfono: 55 1010 2020, Correo: luis.delgado@empresa.com.\\n2. **Seguridad**: Cynthia Morales Rivas, Jefa de Seguridad Operativa. Teléfono: 55 3030 4040, Correo: cynthia.morales@empresa.com.\\n3. **CDR** (Centro de Distribución y Recepción): Eduardo Ramírez Ochoa, Encargado de Operaciones. Teléfono: 55 5050 6060, Correo: eduardo.ramirez@empresa.com【4:0†source】.\\n\\nRecuerda que Seguridad está disponible 24/7, mientras que Transporte y CDR tienen horario de atención de 06:00 a 22:00【4:0†source】.', 'annotations': [{'type': 'file_citation', 'text': '【4:0†source】', 'start_index': 471, 'end_index': 483, 'file_citation': {'file_id': 'assistant-7zjSVj89MMm7mK7PsMxvAu'}}, {'type': 'file_citation', 'text': '【4:0†source】', 'start_index': 604, 'end_index': 616, 'file_citation': {'file_id': 'assistant-7zjSVj89MMm7mK7PsMxvAu'}}]}}\n",
      "--------------------------------------------------\n"
     ]
    }
   ],
   "source": [
    "# Mostrar los mensajes más recientes primero\n",
    "print(\"\\nCONVERSACIÓN ACTUAL (MÁS RECIENTE PRIMERO)\\n\" + \"=\" * 50)\n",
    "\n",
    "# Obtener e invertir los últimos 5 mensajes\n",
    "for i, msg in enumerate(reversed(list(messages.text_messages)[-5:])):\n",
    "    print(f\"\\nMENSAJE {i+1}:\\n{'-' * 50}\\n{msg}\\n{'-' * 50}\")"
   ]
  }
 ],
 "metadata": {
  "kernelspec": {
   "display_name": "Python 3",
   "language": "python",
   "name": "python3"
  },
  "language_info": {
   "codemirror_mode": {
    "name": "ipython",
    "version": 3
   },
   "file_extension": ".py",
   "mimetype": "text/x-python",
   "name": "python",
   "nbconvert_exporter": "python",
   "pygments_lexer": "ipython3",
   "version": "3.10.16"
  }
 },
 "nbformat": 4,
 "nbformat_minor": 5
}
